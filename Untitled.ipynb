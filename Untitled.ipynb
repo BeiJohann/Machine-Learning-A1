{
 "cells": [
  {
   "cell_type": "code",
   "execution_count": 3,
   "metadata": {},
   "outputs": [],
   "source": [
    "import sys\n",
    "import os\n",
    "import torch.nn as nn\n",
    "import torch.nn.functional as F\n",
    "import torch"
   ]
  },
  {
   "cell_type": "code",
   "execution_count": 4,
   "metadata": {},
   "outputs": [],
   "source": [
    "from nltk.tokenize import WordPunctTokenizer\n",
    "import random\n",
    "\n",
    "class TextLoader(object):\n",
    "    \n",
    "    def __init__(self, filename):\n",
    "        #load file \n",
    "        thefile = open(filename,'r')\n",
    "        \n",
    "        tokenizer = WordPunctTokenizer()\n",
    "        self.sentences = []\n",
    "        self.predicted = []\n",
    "        \n",
    "        #tokenizer\n",
    "        for line in thefile:\n",
    "            sentence = tokenizer.tokenize(line)\n",
    "            if sentence:\n",
    "                self.sentences.append([\"<s>\"] + sentence)\n",
    "                self.predicted.append(sentence + [\"<e>\"])\n",
    "        \n",
    "        #index \n",
    "        uniquevocab = list(set(sum(self.sentences, []))) + [\"<e>\"]\n",
    "        self.vocabindex = {}\n",
    "        for i in range(len(uniquevocab)):\n",
    "            self.vocabindex[uniquevocab[i]] = i\n",
    "            \n",
    "        #replace words with index\n",
    "        self.int_sentences = [[self.vocabindex[x] for x in y] \n",
    "                               for y in self.sentences]\n",
    "        \n",
    "        self.int_predicted = [[self.vocabindex[x] for x in y] for\n",
    "                              y in self.predicted]\n",
    "        \n",
    "        self.pairs = list(zip(self.int_sentences, self.int_predicted))\n",
    "    \n",
    "    \n",
    "    def shuffle(self):\n",
    "        random.shuffle(self.pairs)\n",
    "      \n",
    "    #get_item turns everything/makes it behave like an array\n",
    "    def __getitem__(self, n):\n",
    "        return self.pairs[n]\n"
   ]
  },
  {
   "cell_type": "code",
   "execution_count": 5,
   "metadata": {},
   "outputs": [
    {
     "ename": "FileNotFoundError",
     "evalue": "[Errno 2] No such file or directory: 'data/hunt_snark.txt'",
     "output_type": "error",
     "traceback": [
      "\u001b[0;31m---------------------------------------------------------------------------\u001b[0m",
      "\u001b[0;31mFileNotFoundError\u001b[0m                         Traceback (most recent call last)",
      "\u001b[0;32m<ipython-input-5-4464cb8cdcb8>\u001b[0m in \u001b[0;36m<module>\u001b[0;34m\u001b[0m\n\u001b[0;32m----> 1\u001b[0;31m \u001b[0mt1\u001b[0m \u001b[0;34m=\u001b[0m \u001b[0mTextLoader\u001b[0m\u001b[0;34m(\u001b[0m\u001b[0;34m'data/hunt_snark.txt'\u001b[0m\u001b[0;34m)\u001b[0m\u001b[0;34m\u001b[0m\u001b[0;34m\u001b[0m\u001b[0m\n\u001b[0m",
      "\u001b[0;32m<ipython-input-4-93b29b87ba31>\u001b[0m in \u001b[0;36m__init__\u001b[0;34m(self, filename)\u001b[0m\n\u001b[1;32m      6\u001b[0m     \u001b[0;32mdef\u001b[0m \u001b[0m__init__\u001b[0m\u001b[0;34m(\u001b[0m\u001b[0mself\u001b[0m\u001b[0;34m,\u001b[0m \u001b[0mfilename\u001b[0m\u001b[0;34m)\u001b[0m\u001b[0;34m:\u001b[0m\u001b[0;34m\u001b[0m\u001b[0;34m\u001b[0m\u001b[0m\n\u001b[1;32m      7\u001b[0m         \u001b[0;31m#load file\u001b[0m\u001b[0;34m\u001b[0m\u001b[0;34m\u001b[0m\u001b[0;34m\u001b[0m\u001b[0m\n\u001b[0;32m----> 8\u001b[0;31m         \u001b[0mthefile\u001b[0m \u001b[0;34m=\u001b[0m \u001b[0mopen\u001b[0m\u001b[0;34m(\u001b[0m\u001b[0mfilename\u001b[0m\u001b[0;34m,\u001b[0m\u001b[0;34m'r'\u001b[0m\u001b[0;34m)\u001b[0m\u001b[0;34m\u001b[0m\u001b[0;34m\u001b[0m\u001b[0m\n\u001b[0m\u001b[1;32m      9\u001b[0m \u001b[0;34m\u001b[0m\u001b[0m\n\u001b[1;32m     10\u001b[0m         \u001b[0mtokenizer\u001b[0m \u001b[0;34m=\u001b[0m \u001b[0mWordPunctTokenizer\u001b[0m\u001b[0;34m(\u001b[0m\u001b[0;34m)\u001b[0m\u001b[0;34m\u001b[0m\u001b[0;34m\u001b[0m\u001b[0m\n",
      "\u001b[0;31mFileNotFoundError\u001b[0m: [Errno 2] No such file or directory: 'data/hunt_snark.txt'"
     ]
    }
   ],
   "source": [
    "t1 = TextLoader('data/hunt_snark.txt')"
   ]
  }
 ],
 "metadata": {
  "kernelspec": {
   "display_name": "Python 3",
   "language": "python",
   "name": "python3"
  },
  "language_info": {
   "codemirror_mode": {
    "name": "ipython",
    "version": 3
   },
   "file_extension": ".py",
   "mimetype": "text/x-python",
   "name": "python",
   "nbconvert_exporter": "python",
   "pygments_lexer": "ipython3",
   "version": "3.7.4"
  }
 },
 "nbformat": 4,
 "nbformat_minor": 2
}
