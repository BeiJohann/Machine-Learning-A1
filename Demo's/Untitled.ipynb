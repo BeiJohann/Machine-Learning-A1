{
 "cells": [
  {
   "cell_type": "code",
   "execution_count": 2,
   "metadata": {},
   "outputs": [],
   "source": [
    "import sys\n",
    "import os\n",
    "import torch.nn as nn\n",
    "import torch.nn.functional as F\n",
    "import torch"
   ]
  },
  {
   "cell_type": "code",
   "execution_count": 3,
   "metadata": {},
   "outputs": [],
   "source": [
    "from nltk.tokenize import WordPunctTokenizer\n",
    "import random\n",
    "\n",
    "class TextLoader(object):\n",
    "    \n",
    "    def __init__(self, filename):\n",
    "        #load file \n",
    "        thefile = open(filename,'r')\n",
    "        \n",
    "        tokenizer = WordPunctTokenizer()\n",
    "        self.sentences = []\n",
    "        self.predicted = []\n",
    "        \n",
    "        #tokenizer\n",
    "        for line in thefile:\n",
    "            sentence = tokenizer.tokenize(line)\n",
    "            if sentence:\n",
    "                self.sentences.append([\"<s>\"] + sentence)\n",
    "                self.predicted.append(sentence + [\"<e>\"])\n",
    "        \n",
    "        #index \n",
    "        uniquevocab = list(set(sum(self.sentences, []))) + [\"<e>\"]\n",
    "        self.vocabindex = {}\n",
    "        for i in range(len(uniquevocab)):\n",
    "            self.vocabindex[uniquevocab[i]] = i\n",
    "            \n",
    "        #replace words with index\n",
    "        self.int_sentences = [[self.vocabindex[x] for x in y] \n",
    "                               for y in self.sentences]\n",
    "        \n",
    "        self.int_predicted = [[self.vocabindex[x] for x in y] for\n",
    "                              y in self.predicted]\n",
    "        \n",
    "        self.pairs = list(zip(self.int_sentences, self.int_predicted))\n",
    "    \n",
    "    \n",
    "    def shuffle(self):\n",
    "        random.shuffle(self.pairs)\n",
    "      \n",
    "    #get_item turns everything/makes it behave like an array\n",
    "    def __getitem__(self, n):\n",
    "        return self.pairs[n]\n"
   ]
  },
  {
   "cell_type": "code",
   "execution_count": 4,
   "metadata": {},
   "outputs": [],
   "source": [
    "t1 = TextLoader('data/hunt_snark.txt')"
   ]
  },
  {
   "cell_type": "code",
   "execution_count": 5,
   "metadata": {},
   "outputs": [],
   "source": [
    "reverseindex = {t1.vocabindex[x]:x for x in t1.vocabindex}"
   ]
  },
  {
   "cell_type": "code",
   "execution_count": 6,
   "metadata": {},
   "outputs": [],
   "source": [
    "class LSTMFun(nn.Module):\n",
    "    def __init__(self, input_size, hidden_size, dropout=0.6):\n",
    "        self.emb = nn.Embedding(vocab_size, input_size)\n",
    "        self.lstm = nn.LSTM(input_size, hidden_size, dropout=dropout)\n",
    "        self.linear = nn.Linear(vocab_size)\n",
    "        self.softmax = F.log_softmax()\n",
    "        #we want log softmax becasue of terrible underflow (when the numbers are suuuper small)\n",
    "        #we need a linnear layer to represent the prediction to the category\n",
    "        \n",
    "        self.hidden_size = hidden_size\n",
    "        \n",
    "    def forward(self, sentence):\n",
    "        init_hidden = self.init_hidden(len(sentence))\n",
    "        #should be able to feed \n",
    "        output = self.emb(sentence)\n",
    "        #magic behind the scenes to turn objects into functions (very smart)\n",
    "        hidden, output = self.lstm(init_hidden, output)\n",
    "        output = self.linear(output)\n",
    "        return self.softmax(output)\n",
    "    \n",
    "    def init_hidden(self, sen_len):\n",
    "        return torch.zeros(self.hidden_size, sen_len)\n",
    "        #we need a special dimension"
   ]
  },
  {
   "cell_type": "markdown",
   "metadata": {},
   "source": [
    "The predicted will not be corrected as it will be a list of integers, we will need to turn them into one-hot vectors becasue we have softmax"
   ]
  },
  {
   "cell_type": "code",
   "execution_count": 7,
   "metadata": {},
   "outputs": [],
   "source": [
    "sentence = [t1[300][0]]"
   ]
  },
  {
   "cell_type": "code",
   "execution_count": 8,
   "metadata": {},
   "outputs": [
    {
     "data": {
      "text/plain": [
       "[[2010, 507, 1785, 1739, 1636, 403, 1785, 1739, 2070, 2147, 1588, 971]]"
      ]
     },
     "execution_count": 8,
     "metadata": {},
     "output_type": "execute_result"
    }
   ],
   "source": [
    "sentence"
   ]
  },
  {
   "cell_type": "code",
   "execution_count": 9,
   "metadata": {},
   "outputs": [],
   "source": [
    "hidden = torch.zeros(200,12)"
   ]
  },
  {
   "cell_type": "code",
   "execution_count": 10,
   "metadata": {},
   "outputs": [
    {
     "data": {
      "text/plain": [
       "tensor([[0., 0., 0.,  ..., 0., 0., 0.],\n",
       "        [0., 0., 0.,  ..., 0., 0., 0.],\n",
       "        [0., 0., 0.,  ..., 0., 0., 0.],\n",
       "        ...,\n",
       "        [0., 0., 0.,  ..., 0., 0., 0.],\n",
       "        [0., 0., 0.,  ..., 0., 0., 0.],\n",
       "        [0., 0., 0.,  ..., 0., 0., 0.]])"
      ]
     },
     "execution_count": 10,
     "metadata": {},
     "output_type": "execute_result"
    }
   ],
   "source": [
    "hidden"
   ]
  },
  {
   "cell_type": "code",
   "execution_count": null,
   "metadata": {},
   "outputs": [],
   "source": []
  }
 ],
 "metadata": {
  "kernelspec": {
   "display_name": "Python 3",
   "language": "python",
   "name": "python3"
  },
  "language_info": {
   "codemirror_mode": {
    "name": "ipython",
    "version": 3
   },
   "file_extension": ".py",
   "mimetype": "text/x-python",
   "name": "python",
   "nbconvert_exporter": "python",
   "pygments_lexer": "ipython3",
   "version": "3.7.4"
  }
 },
 "nbformat": 4,
 "nbformat_minor": 2
}
