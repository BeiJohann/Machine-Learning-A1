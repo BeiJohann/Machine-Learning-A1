{
 "cells": [
  {
   "cell_type": "code",
   "execution_count": 1,
   "metadata": {},
   "outputs": [],
   "source": [
    "import torch.nn as nn\n",
    "import torch.nn.functional as F\n",
    "import torch\n",
    "import numpy as np\n",
    "from torch import Tensor, LongTensor, zeros\n",
    "\n",
    "#voc_len = len(vocabulary)"
   ]
  },
  {
   "cell_type": "code",
   "execution_count": 59,
   "metadata": {},
   "outputs": [],
   "source": [
    "def openData(self):\n",
    "    pass"
   ]
  },
  {
   "cell_type": "code",
   "execution_count": 60,
   "metadata": {},
   "outputs": [],
   "source": [
    "def get_numeric_representations_sents(sents):\n",
    "    '''\n",
    "        We first convert strings to vectors. To do that, I am using ord() here - can replace\n",
    "        it by something else later.\n",
    "        Then we convert the vectors to tensors.\n",
    "    '''\n",
    "    # using ord() to convert words to integers/numeric representation and creating numeric representations through that\n",
    "    # vectors = []\n",
    "    # for sent in sents:\n",
    "    #     vec = [ord(ch) for ch in sent]\n",
    "    #     vectors.append(vec)\n",
    "\n",
    "    # using vocabulary to get word-to-integer mapping and creating numeric representations through that\n",
    "    # sent_char_lists = [list(sent) for sent in sents]\n",
    "    vocabulary = list(set(sum(sents, [])))\n",
    "    char_to_int_mapping = {char: i + 1 for i, char in enumerate(vocabulary)}\n",
    "    #print(char_to_int_mapping)\n",
    "    sent_vectors = [[char_to_int_mapping[char]\n",
    "                     for char in list(sent)] for sent in sents]\n",
    "\n",
    "    sent_vectors_tensors = [Tensor(vec) for vec in sent_vectors]\n",
    "    return sent_vectors_tensors, vocabulary"
   ]
  },
  {
   "cell_type": "code",
   "execution_count": 65,
   "metadata": {},
   "outputs": [],
   "source": [
    "train_sent = []\n",
    "\n",
    "data = [line.rstrip(\"\\n\") for line in open('./myTrains.txt')]\n",
    "train_sent = [list(line.split('\\t')[0]) for line in data]\n",
    "train_label = [list(line.split('\\t')[1]) for line in data]\n",
    "#print(train_sent[4]+'--'+train_label[4])\n",
    "\n",
    "tensor, vocabulary = get_numeric_representations_sents(train_sent)"
   ]
  },
  {
   "cell_type": "code",
   "execution_count": 66,
   "metadata": {},
   "outputs": [
    {
     "data": {
      "text/plain": [
       "list"
      ]
     },
     "execution_count": 66,
     "metadata": {},
     "output_type": "execute_result"
    }
   ],
   "source": [
    "type(train_sent[1])"
   ]
  },
  {
   "cell_type": "code",
   "execution_count": null,
   "metadata": {},
   "outputs": [],
   "source": []
  },
  {
   "cell_type": "code",
   "execution_count": 68,
   "metadata": {},
   "outputs": [
    {
     "name": "stdout",
     "output_type": "stream",
     "text": [
      "tensor(383.)\n"
     ]
    }
   ],
   "source": [
    "print(tensor[0][0])"
   ]
  },
  {
   "cell_type": "code",
   "execution_count": 70,
   "metadata": {},
   "outputs": [],
   "source": [
    "def charToIndex(char):\n",
    "    return vocabulary.index(char)"
   ]
  },
  {
   "cell_type": "code",
   "execution_count": 71,
   "metadata": {},
   "outputs": [
    {
     "name": "stdout",
     "output_type": "stream",
     "text": [
      "0\n"
     ]
    }
   ],
   "source": [
    "print(charToIndex('n'))"
   ]
  },
  {
   "cell_type": "code",
   "execution_count": 74,
   "metadata": {},
   "outputs": [],
   "source": [
    "def charToTensor(char):\n",
    "    ret = torch.zeros(1,len(vocabulary))\n",
    "    ret[0][charToIndex(char)] = 1\n",
    "    return ret"
   ]
  },
  {
   "cell_type": "code",
   "execution_count": 75,
   "metadata": {},
   "outputs": [],
   "source": [
    "def sentenceToTensor(sentence):\n",
    "    ret = torch.zeros(100,1,len(vocabulary))\n",
    "    for i,char in range(100):\n",
    "        ret[i][0][charToIndex(char)] = 1\n",
    "    return ret"
   ]
  },
  {
   "cell_type": "code",
   "execution_count": 47,
   "metadata": {},
   "outputs": [],
   "source": [
    "def create_one_hot_vectors(sequences, vocabulary):\n",
    "    # one_hot_vectors = torch.Tensor((len(sequences), len(vocabulary)))\n",
    "    one_hot_vectors = []\n",
    "    for seq in sequences:\n",
    "        # one_hot_vec = zeros(len(vocabulary))\n",
    "        one_hot_vec = [-1.0] * len(vocabulary)\n",
    "        for char_int in seq:\n",
    "            char_int = int(char_int.item())\n",
    "            if char_int == -1:\n",
    "                break\n",
    "            one_hot_vec[char_int - 1] = 1.0\n",
    "        one_hot_vectors.append(one_hot_vec)\n",
    "\n",
    "    # one_hot_vectors = LongTensor(one_hot_vectors)\n",
    "    return one_hot_vectors"
   ]
  },
  {
   "cell_type": "code",
   "execution_count": null,
   "metadata": {},
   "outputs": [],
   "source": []
  },
  {
   "cell_type": "code",
   "execution_count": 34,
   "metadata": {},
   "outputs": [
    {
     "name": "stdout",
     "output_type": "stream",
     "text": [
      "5000\n"
     ]
    }
   ],
   "source": [
    "hotvec = create_one_hot_vectors(tensor,voc)\n",
    "print(len(hotvec))"
   ]
  },
  {
   "cell_type": "code",
   "execution_count": 1,
   "metadata": {},
   "outputs": [
    {
     "ename": "NameError",
     "evalue": "name 'voc' is not defined",
     "output_type": "error",
     "traceback": [
      "\u001b[0;31m---------------------------------------------------------------------------\u001b[0m",
      "\u001b[0;31mNameError\u001b[0m                                 Traceback (most recent call last)",
      "\u001b[0;32m<ipython-input-1-e9352994eaaf>\u001b[0m in \u001b[0;36m<module>\u001b[0;34m\u001b[0m\n\u001b[0;32m----> 1\u001b[0;31m \u001b[0mlen\u001b[0m\u001b[0;34m(\u001b[0m\u001b[0mvoc\u001b[0m\u001b[0;34m)\u001b[0m\u001b[0;34m\u001b[0m\u001b[0;34m\u001b[0m\u001b[0m\n\u001b[0m",
      "\u001b[0;31mNameError\u001b[0m: name 'voc' is not defined"
     ]
    }
   ],
   "source": [
    "len(voc)"
   ]
  },
  {
   "cell_type": "code",
   "execution_count": 3,
   "metadata": {},
   "outputs": [
    {
     "data": {
      "text/plain": [
       "[0, 2]"
      ]
     },
     "execution_count": 3,
     "metadata": {},
     "output_type": "execute_result"
    }
   ],
   "source": [
    "[i for i, e in enumerate(['a','b','a']) if e == 'a']"
   ]
  },
  {
   "cell_type": "code",
   "execution_count": null,
   "metadata": {},
   "outputs": [],
   "source": []
  }
 ],
 "metadata": {
  "kernelspec": {
   "display_name": "Python 3",
   "language": "python",
   "name": "python3"
  },
  "language_info": {
   "codemirror_mode": {
    "name": "ipython",
    "version": 3
   },
   "file_extension": ".py",
   "mimetype": "text/x-python",
   "name": "python",
   "nbconvert_exporter": "python",
   "pygments_lexer": "ipython3",
   "version": "3.7.4"
  }
 },
 "nbformat": 4,
 "nbformat_minor": 2
}
