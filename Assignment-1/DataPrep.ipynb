{
 "cells": [
  {
   "cell_type": "code",
   "execution_count": 1,
   "metadata": {},
   "outputs": [],
   "source": [
    "import sys\n",
    "import os\n",
    "import numpy as np\n",
    "import csv\n",
    "import argparse\n",
    "import random"
   ]
  },
  {
   "cell_type": "code",
   "execution_count": 2,
   "metadata": {},
   "outputs": [
    {
     "data": {
      "text/plain": [
       "1"
      ]
     },
     "execution_count": 2,
     "metadata": {},
     "output_type": "execute_result"
    }
   ],
   "source": [
    "hash('gushegsjo') % 4"
   ]
  },
  {
   "cell_type": "markdown",
   "metadata": {},
   "source": [
    "-Fragen Warum das nur noch das ausgibt"
   ]
  },
  {
   "cell_type": "code",
   "execution_count": 15,
   "metadata": {},
   "outputs": [],
   "source": [
    "class DataPrep:\n",
    "    def __init__(self,label):\n",
    "        self.label = label\n",
    "        \n",
    "#to select a List of Languages, a File or 10 Arguments\n",
    "    def selectLanguage (self, listOfLang):\n",
    "        \n",
    "        listOfLang = y_train = [line.split()[0] for line in open(listOfLang)]\n",
    "        \n",
    "        if not(listOfLang):\n",
    "            selectedLanguages = ['als', 'ckb', 'gle', 'zea', 'vls', 'swe', 'sco', 'por', 'nap', 'lit']\n",
    "            print(\"selected the default List\")\n",
    "        else:\n",
    "            selectedLanguages = listOfLang\n",
    "\n",
    "        print(selectedLanguages)\n",
    "        return selectedLanguages\n",
    "\n",
    "    #Save the selected languages in a File\n",
    "    def saveData (self,listOfLang, FileName = \"myTrains\"):\n",
    "    \n",
    "        y_train = [line.split()[0] for line in open('./data/y_train.txt')]\n",
    "        x_train = [line.rstrip(\"\\n\") for line in open('./data/x_train.txt')]\n",
    "    \n",
    "        #print(y_train[400:800]) \n",
    "    \n",
    "        selectedLanguages = self.selectLanguage(listOfLang)\n",
    "    \n",
    "        output = open(FileName +\".txt\", \"w\")\n",
    "\n",
    "        for x, y in zip(x_train, y_train):\n",
    "            if y in selectedLanguages and len(x) >= 100:\n",
    "                output.write(x[:100] + \"\\t\" + y + \"\\n\")\n",
    "            \n",
    "    #return all availabe languages\n",
    "    def getListOfLang ():\n",
    "        AllLines = [line.split()[0] for line in  open('./data/labels.csv')]\n",
    "        AllWords = [x.split(';') for x in AllLines]\n",
    "        return AllWords"
   ]
  },
  {
   "cell_type": "code",
   "execution_count": 16,
   "metadata": {},
   "outputs": [
    {
     "name": "stdout",
     "output_type": "stream",
     "text": [
      "['bar', 'ckb', 'gle', 'zea', 'vls', 'swe', 'sco', 'por', 'nap', 'lit']\n"
     ]
    }
   ],
   "source": [
    "p = DataPrep('hey')\n",
    "p.saveData('./data/testLang.txt')"
   ]
  },
  {
   "cell_type": "code",
   "execution_count": 21,
   "metadata": {},
   "outputs": [
    {
     "name": "stderr",
     "output_type": "stream",
     "text": [
      "usage: -f -n 4 [-h] -n N\n",
      "-f -n 4: error: the following arguments are required: -n\n"
     ]
    },
    {
     "ename": "SystemExit",
     "evalue": "2",
     "output_type": "error",
     "traceback": [
      "An exception has occurred, use %tb to see the full traceback.\n",
      "\u001b[0;31mSystemExit\u001b[0m\u001b[0;31m:\u001b[0m 2\n"
     ]
    }
   ],
   "source": [
    "#sys.argv = ['-f -n 4']\n",
    "args, _ = parser.parse_known_args()\n",
    "parser = argparse.ArgumentParser(description='-n 6')\n",
    "\n",
    "   \n",
    "parser.add_argument('-n', type=int, required=True, \n",
    "    help=\"define the number of random integers\")\n",
    "args = parser.parse_args()\n",
    "\n",
    "n = args.n\n",
    "\n",
    "for i in range(n):\n",
    "    print(random.randint(-100, 100))"
   ]
  },
  {
   "cell_type": "markdown",
   "metadata": {},
   "source": [
    "the commandline thing is not added"
   ]
  },
  {
   "cell_type": "code",
   "execution_count": null,
   "metadata": {},
   "outputs": [],
   "source": []
  }
 ],
 "metadata": {
  "kernelspec": {
   "display_name": "Python 3",
   "language": "python",
   "name": "python3"
  },
  "language_info": {
   "codemirror_mode": {
    "name": "ipython",
    "version": 3
   },
   "file_extension": ".py",
   "mimetype": "text/x-python",
   "name": "python",
   "nbconvert_exporter": "python",
   "pygments_lexer": "ipython3",
   "version": "3.7.4"
  }
 },
 "nbformat": 4,
 "nbformat_minor": 2
}
